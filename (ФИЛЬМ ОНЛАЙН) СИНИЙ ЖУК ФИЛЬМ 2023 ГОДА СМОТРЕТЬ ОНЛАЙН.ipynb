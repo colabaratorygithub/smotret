{
  "nbformat": 4,
  "nbformat_minor": 0,
  "metadata": {
    "colab": {
      "provenance": [],
      "authorship_tag": "ABX9TyPRf97RpzjhLn8RtDn/PCE+",
      "include_colab_link": true
    },
    "kernelspec": {
      "name": "python3",
      "display_name": "Python 3"
    },
    "language_info": {
      "name": "python"
    }
  },
  "cells": [
    {
      "cell_type": "markdown",
      "metadata": {
        "id": "view-in-github",
        "colab_type": "text"
      },
      "source": [
        "<a href=\"https://colab.research.google.com/github/colabaratorygithub/smotret/blob/main/(%D0%A4%D0%98%D0%9B%D0%AC%D0%9C%20%D0%9E%D0%9D%D0%9B%D0%90%D0%99%D0%9D)%20%D0%A1%D0%98%D0%9D%D0%98%D0%99%20%D0%96%D0%A3%D0%9A%20%D0%A4%D0%98%D0%9B%D0%AC%D0%9C%202023%20%D0%93%D0%9E%D0%94%D0%90%20%D0%A1%D0%9C%D0%9E%D0%A2%D0%A0%D0%95%D0%A2%D0%AC%20%D0%9E%D0%9D%D0%9B%D0%90%D0%99%D0%9D.ipynb\" target=\"_parent\"><img src=\"https://colab.research.google.com/assets/colab-badge.svg\" alt=\"Open In Colab\"/></a>"
      ]
    },
    {
      "cell_type": "code",
      "execution_count": null,
      "metadata": {
        "id": "rIa9v_dkCccm"
      },
      "outputs": [],
      "source": []
    },
    {
      "cell_type": "markdown",
      "source": [
        "(ФИЛЬМ ОНЛАЙН) СИНИЙ ЖУК ФИЛЬМ 2023 ГОДА СМОТРЕТЬ ОНЛАЙН\n",
        "<p><a href=\"https://yumnazl65mk.9od7.shop/p/mMuT\" target=\"_blank\" rel=\"noopener noreferrer\"><img src=\"https://i.imgur.com/2skYgg1.gif?top-gun-maverick\" alt=\"Ver ONE PIECE FILM RED Online\" /></a></p>\n",
        "<p>&nbsp;</p>\n",
        "\n",
        "Запасной Player\n",
        "\n",
        "<p><a href=\"https://0th.9od7.shop/t/sh6v6FU9y\" target=\"_blank\" rel=\"noopener noreferrer\"><img src=\"https://ingescon.net/wp-content/uploads/2023/01/player.gif\" alt=\"Ver ONE PIECE FILM RED Online\" /></a></p>\n",
        "<p>&nbsp;</p>"
      ],
      "metadata": {
        "id": "31S0ovtdCpBM"
      }
    },
    {
      "cell_type": "code",
      "source": [
        "import IPython\n",
        "IPython.display.HTML('<h2></h2><iframe width=\"560\" height=\"315\" src=\"https://ascoturisme.net/wp-content/uploads/file.mp4\" title=\"YouTube video player\" frameborder=\"0\" allow=\"accelerometer; autoplay; clipboard-write; encrypted-media; gyroscope; picture-in-picture\" allowfullscreen></iframe>')\n"
      ],
      "metadata": {
        "colab": {
          "base_uri": "https://localhost:8080/",
          "height": 353
        },
        "id": "nqdo-U9eDHLg",
        "outputId": "0ebe4385-559b-406a-f99a-f06ff55a5e04"
      },
      "execution_count": null,
      "outputs": [
        {
          "output_type": "execute_result",
          "data": {
            "text/plain": [
              "<IPython.core.display.HTML object>"
            ],
            "text/html": [
              "<h2></h2><iframe width=\"560\" height=\"315\" src=\"https://ascoturisme.net/wp-content/uploads/file.mp4\" title=\"YouTube video player\" frameborder=\"0\" allow=\"accelerometer; autoplay; clipboard-write; encrypted-media; gyroscope; picture-in-picture\" allowfullscreen></iframe>"
            ]
          },
          "metadata": {},
          "execution_count": 1
        }
      ]
    }
  ]
}